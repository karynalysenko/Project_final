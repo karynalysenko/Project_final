{
 "cells": [
  {
   "cell_type": "code",
   "execution_count": 1,
   "id": "58b47ac7",
   "metadata": {},
   "outputs": [
    {
     "name": "stdout",
     "output_type": "stream",
     "text": [
      "Collecting phageai\n",
      "  Downloading phageai-0.4.1.tar.gz (14 kB)Note: you may need to restart the kernel to use updated packages.\n",
      "  Preparing metadata (setup.py): started\n",
      "  Preparing metadata (setup.py): finished with status 'done'\n",
      "Requirement already satisfied: requests>=2.26.0 in c:\\users\\karyna\\anaconda3\\lib\\site-packages (from phageai) (2.28.1)\n",
      "Requirement already satisfied: pytest>=6.2.5 in c:\\users\\karyna\\anaconda3\\lib\\site-packages (from phageai) (7.1.1)\n",
      "Collecting black>=20.8b1 (from phageai)\n"
     ]
    },
    {
     "name": "stderr",
     "output_type": "stream",
     "text": [
      "ERROR: pip's dependency resolver does not currently take into account all the packages that are installed. This behaviour is the source of the following dependency conflicts.\n",
      "spyder 5.1.5 requires pyqt5<5.13, which is not installed.\n",
      "spyder 5.1.5 requires pyqtwebengine<5.13, which is not installed.\n",
      "jupyter-server 1.13.5 requires pywinpty<2; os_name == \"nt\", but you have pywinpty 2.0.2 which is incompatible.\n"
     ]
    },
    {
     "name": "stdout",
     "output_type": "stream",
     "text": [
      "\n",
      "  Downloading black-23.3.0-cp39-cp39-win_amd64.whl (1.3 MB)\n",
      "     ---------------------------------------- 1.3/1.3 MB 10.2 MB/s eta 0:00:00\n",
      "Requirement already satisfied: click>=8.0.0 in c:\\users\\karyna\\anaconda3\\lib\\site-packages (from black>=20.8b1->phageai) (8.0.4)\n",
      "Requirement already satisfied: mypy-extensions>=0.4.3 in c:\\users\\karyna\\anaconda3\\lib\\site-packages (from black>=20.8b1->phageai) (0.4.3)\n",
      "Collecting packaging>=22.0 (from black>=20.8b1->phageai)\n",
      "  Downloading packaging-23.1-py3-none-any.whl (48 kB)\n",
      "     ---------------------------------------- 48.9/48.9 kB ? eta 0:00:00\n",
      "Collecting pathspec>=0.9.0 (from black>=20.8b1->phageai)\n",
      "  Downloading pathspec-0.11.1-py3-none-any.whl (29 kB)\n",
      "Collecting platformdirs>=2 (from black>=20.8b1->phageai)\n",
      "  Downloading platformdirs-3.5.0-py3-none-any.whl (15 kB)\n",
      "Requirement already satisfied: tomli>=1.1.0 in c:\\users\\karyna\\anaconda3\\lib\\site-packages (from black>=20.8b1->phageai) (1.2.2)\n",
      "Requirement already satisfied: typing-extensions>=3.10.0.0 in c:\\users\\karyna\\anaconda3\\lib\\site-packages (from black>=20.8b1->phageai) (4.1.1)\n",
      "Requirement already satisfied: attrs>=19.2.0 in c:\\users\\karyna\\anaconda3\\lib\\site-packages (from pytest>=6.2.5->phageai) (21.4.0)\n",
      "Requirement already satisfied: iniconfig in c:\\users\\karyna\\anaconda3\\lib\\site-packages (from pytest>=6.2.5->phageai) (1.1.1)\n",
      "Requirement already satisfied: pluggy<2.0,>=0.12 in c:\\users\\karyna\\anaconda3\\lib\\site-packages (from pytest>=6.2.5->phageai) (1.0.0)\n",
      "Requirement already satisfied: py>=1.8.2 in c:\\users\\karyna\\anaconda3\\lib\\site-packages (from pytest>=6.2.5->phageai) (1.11.0)\n",
      "Requirement already satisfied: atomicwrites>=1.0 in c:\\users\\karyna\\anaconda3\\lib\\site-packages (from pytest>=6.2.5->phageai) (1.4.0)\n",
      "Requirement already satisfied: colorama in c:\\users\\karyna\\anaconda3\\lib\\site-packages (from pytest>=6.2.5->phageai) (0.4.4)\n",
      "Requirement already satisfied: charset-normalizer<3,>=2 in c:\\users\\karyna\\anaconda3\\lib\\site-packages (from requests>=2.26.0->phageai) (2.0.4)\n",
      "Requirement already satisfied: idna<4,>=2.5 in c:\\users\\karyna\\anaconda3\\lib\\site-packages (from requests>=2.26.0->phageai) (3.3)\n",
      "Requirement already satisfied: urllib3<1.27,>=1.21.1 in c:\\users\\karyna\\anaconda3\\lib\\site-packages (from requests>=2.26.0->phageai) (1.26.9)\n",
      "Requirement already satisfied: certifi>=2017.4.17 in c:\\users\\karyna\\anaconda3\\lib\\site-packages (from requests>=2.26.0->phageai) (2022.12.7)\n",
      "Building wheels for collected packages: phageai\n",
      "  Building wheel for phageai (setup.py): started\n",
      "  Building wheel for phageai (setup.py): finished with status 'done'\n",
      "  Created wheel for phageai: filename=phageai-0.4.1-py3-none-any.whl size=9732 sha256=9cdaa364ada1016c4984d36ea4dd3686f275cf36298e5844f4f598620baa6525\n",
      "  Stored in directory: c:\\users\\karyna\\appdata\\local\\pip\\cache\\wheels\\5b\\c5\\13\\2f9dbb9d7628dc7bd571606175d3823a94acc7354dbdb7430b\n",
      "Successfully built phageai\n",
      "Installing collected packages: platformdirs, pathspec, packaging, black, phageai\n",
      "  Attempting uninstall: pathspec\n",
      "    Found existing installation: pathspec 0.7.0\n",
      "    Uninstalling pathspec-0.7.0:\n",
      "      Successfully uninstalled pathspec-0.7.0\n",
      "  Attempting uninstall: packaging\n",
      "    Found existing installation: packaging 21.3\n",
      "    Uninstalling packaging-21.3:\n",
      "      Successfully uninstalled packaging-21.3\n",
      "  Attempting uninstall: black\n",
      "    Found existing installation: black 19.10b0\n",
      "    Uninstalling black-19.10b0:\n",
      "      Successfully uninstalled black-19.10b0\n",
      "Successfully installed black-23.3.0 packaging-23.1 pathspec-0.11.1 phageai-0.4.1 platformdirs-3.5.0\n"
     ]
    }
   ],
   "source": [
    "pip install phageai"
   ]
  },
  {
   "cell_type": "code",
   "execution_count": 6,
   "id": "bd155727",
   "metadata": {},
   "outputs": [
    {
     "data": {
      "text/plain": [
       "54697"
      ]
     },
     "execution_count": 6,
     "metadata": {},
     "output_type": "execute_result"
    }
   ],
   "source": [
    "from Bio import SeqIO\n",
    "record=SeqIO.read(\"/home/karyna/Project/test.fasta\",format=\"fasta\")\n",
    "len(record)"
   ]
  }
 ],
 "metadata": {
  "kernelspec": {
   "display_name": "Python 3 (ipykernel)",
   "language": "python",
   "name": "python3"
  },
  "language_info": {
   "codemirror_mode": {
    "name": "ipython",
    "version": 3
   },
   "file_extension": ".py",
   "mimetype": "text/x-python",
   "name": "python",
   "nbconvert_exporter": "python",
   "pygments_lexer": "ipython3",
   "version": "3.10.6"
  }
 },
 "nbformat": 4,
 "nbformat_minor": 5
}
